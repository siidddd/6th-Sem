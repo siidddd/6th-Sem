{
 "cells": [
  {
   "cell_type": "code",
   "execution_count": 1,
   "id": "e4c38245-fbdf-44da-8915-aa50643cbf75",
   "metadata": {
    "tags": []
   },
   "outputs": [
    {
     "name": "stdout",
     "output_type": "stream",
     "text": [
      "Entered numbers: 4 5\n",
      "Sum = 9\n"
     ]
    }
   ],
   "source": [
    "a = int(input(\"Enter 1st number: \"))\n",
    "b = int(input(\"Enter 2nd number: \"))\n",
    "print(\"Entered numbers:\", a, b)\n",
    "print(\"Sum =\", (a + b))"
   ]
  },
  {
   "cell_type": "code",
   "execution_count": 2,
   "id": "9e2a21ea-c738-4f98-adbf-742fd3c7a55f",
   "metadata": {
    "tags": []
   },
   "outputs": [
    {
     "name": "stdout",
     "output_type": "stream",
     "text": [
      "Enter radius:  5\n"
     ]
    },
    {
     "name": "stdout",
     "output_type": "stream",
     "text": [
      "Entered radius: 5.0\n",
      "Area:  78.53981635\n"
     ]
    }
   ],
   "source": [
    "r = float(input(\"Enter radius: \"))\n",
    "print(\"Entered radius:\", r)\n",
    "ar = 3.141592654 * (r**2)\n",
    "print(\"Area: \", ar)"
   ]
  },
  {
   "cell_type": "code",
   "execution_count": 3,
   "id": "18699bae-0bbe-4046-9850-1122d7c9bdda",
   "metadata": {
    "tags": []
   },
   "outputs": [
    {
     "name": "stdout",
     "output_type": "stream",
     "text": [
      "Enter Paise:  220\n"
     ]
    },
    {
     "name": "stdout",
     "output_type": "stream",
     "text": [
      "220 Paise = 2 Rupee and 20 Paisa\n"
     ]
    }
   ],
   "source": [
    "p = int(input(\"Enter Paise: \"))\n",
    "R = p // 100\n",
    "P = p % 100\n",
    "print(p, \"Paise =\", R, \"Rupee and\", P, \"Paisa\")"
   ]
  },
  {
   "cell_type": "code",
   "execution_count": 4,
   "id": "2cb790c7-d976-4e93-9da6-d4850c66fed8",
   "metadata": {
    "tags": []
   },
   "outputs": [
    {
     "name": "stdout",
     "output_type": "stream",
     "text": [
      "Enter 1st number:  5\n",
      "Enter 2nd number:  4\n"
     ]
    },
    {
     "name": "stdout",
     "output_type": "stream",
     "text": [
      "Entered numbers: 5 4\n",
      "Max: 5\n"
     ]
    }
   ],
   "source": [
    "x = int(input(\"Enter 1st number: \"))\n",
    "y = int(input(\"Enter 2nd number: \"))\n",
    "print(\"Entered numbers:\", x, y)\n",
    "if x > y:\n",
    "    print(\"Max:\", x)\n",
    "elif x < y:\n",
    "    print(\"Max:\", y)\n",
    "else:\n",
    "    print(\"Both are equal\")"
   ]
  },
  {
   "cell_type": "code",
   "execution_count": 5,
   "id": "0ded26c1-a08e-4203-8455-a70339f13d31",
   "metadata": {
    "tags": []
   },
   "outputs": [
    {
     "name": "stdout",
     "output_type": "stream",
     "text": [
      "Enter a number:  25\n"
     ]
    },
    {
     "name": "stdout",
     "output_type": "stream",
     "text": [
      "Entered number: 25\n",
      "Odd\n"
     ]
    }
   ],
   "source": [
    "n = int(input(\"Enter a number: \"))\n",
    "print(\"Entered number:\", n)\n",
    "if n % 2 == 0:\n",
    "    print(\"Even\")\n",
    "else:\n",
    "    print(\"Odd\")"
   ]
  },
  {
   "cell_type": "code",
   "execution_count": 6,
   "id": "efa3f267-64b1-45bc-abf4-8dd8a1df463b",
   "metadata": {
    "tags": []
   },
   "outputs": [
    {
     "name": "stdout",
     "output_type": "stream",
     "text": [
      "Enter a year:  2024\n"
     ]
    },
    {
     "name": "stdout",
     "output_type": "stream",
     "text": [
      "Entered year: 2024\n",
      "Leap Year\n"
     ]
    }
   ],
   "source": [
    "yr = int(input(\"Enter a year: \"))\n",
    "print(\"Entered year:\", yr)\n",
    "if yr % 400 == 0:\n",
    "    print(\"Leap Year\")\n",
    "elif yr % 4 == 0 and yr % 100 != 0:\n",
    "    print(\"Leap Year\")\n",
    "else:\n",
    "    print(\"Not a Leap year\")"
   ]
  },
  {
   "cell_type": "code",
   "execution_count": 8,
   "id": "85316260-348d-4d8d-b83d-ba5d92ada0f9",
   "metadata": {
    "tags": []
   },
   "outputs": [
    {
     "name": "stdout",
     "output_type": "stream",
     "text": [
      "Enter Marks Percentage:  91\n"
     ]
    },
    {
     "name": "stdout",
     "output_type": "stream",
     "text": [
      "Entered Percentage: 91.0\n",
      "O Grade\n"
     ]
    }
   ],
   "source": [
    "per = float(input(\"Enter Marks Percentage: \"))\n",
    "print(\"Entered Percentage:\", per)\n",
    "if per >= 90 and per <= 100:\n",
    "    print(\"O Grade\")\n",
    "elif per >= 80 and per < 90:\n",
    "    print(\"E Grade\")\n",
    "elif per >= 70 and per < 80:\n",
    "    print(\"A Grade\")\n",
    "elif per >= 60 and per < 70:\n",
    "    print(\"B Grade\")\n",
    "elif per >= 50 and per < 60:\n",
    "    print(\"C Grade\")\n",
    "elif per >= 40 and per < 50:\n",
    "    print(\"D Grade\")\n",
    "elif per < 40:\n",
    "    print(\"F Grade (Failed)\")\n",
    "else:\n",
    "    print(\"Invalid Percentage\")"
   ]
  },
  {
   "cell_type": "code",
   "execution_count": 9,
   "id": "4b4d9732-e6db-41c4-aca7-b284f6f2c523",
   "metadata": {
    "tags": []
   },
   "outputs": [
    {
     "name": "stdout",
     "output_type": "stream",
     "text": [
      "Enter a number: 5\n"
     ]
    },
    {
     "name": "stdout",
     "output_type": "stream",
     "text": [
      "Entered Number: 5\n",
      "Factorial: 120\n"
     ]
    }
   ],
   "source": [
    "num = int(input(\"Enter a number:\"))\n",
    "print(\"Entered Number:\", num)\n",
    "fact = 1\n",
    "while num > 1:\n",
    "    fact = fact * num\n",
    "    num = num- 1\n",
    "print(\"Factorial:\", fact)"
   ]
  },
  {
   "cell_type": "code",
   "execution_count": 10,
   "id": "d7f28cbc-aa58-4653-a602-23e2c86a5985",
   "metadata": {
    "tags": []
   },
   "outputs": [
    {
     "name": "stdout",
     "output_type": "stream",
     "text": [
      "Enter a number: 5\n"
     ]
    },
    {
     "name": "stdout",
     "output_type": "stream",
     "text": [
      "Sum of digits of 5 = 5\n"
     ]
    }
   ],
   "source": [
    "num = int(input(\"Enter a number:\"))\n",
    "sum = 0\n",
    "n = num\n",
    "while n > 0:\n",
    "    sum += int(n % 10)\n",
    "    n = int(n // 10)\n",
    "print(\"Sum of digits of\", num, \"=\", sum)"
   ]
  },
  {
   "cell_type": "code",
   "execution_count": 11,
   "id": "2aec2073-33fc-4fb6-8f60-f01c98c24321",
   "metadata": {
    "tags": []
   },
   "outputs": [
    {
     "name": "stdout",
     "output_type": "stream",
     "text": [
      "Enter a number: 2\n"
     ]
    },
    {
     "name": "stdout",
     "output_type": "stream",
     "text": [
      "2 is a Prime Number.\n"
     ]
    }
   ],
   "source": [
    "num = int(input(\"Enter a number:\"))\n",
    "Prime = True\n",
    "for i in range(2, num):\n",
    "    if num % i == 0:\n",
    "        Prime = False\n",
    "if Prime:\n",
    "    print(num, \"is a Prime Number.\")\n",
    "else:\n",
    "    print(num, \"is a Composite Number.\")"
   ]
  },
  {
   "cell_type": "code",
   "execution_count": 12,
   "id": "324db808-1dd0-4266-bb4e-24fa03b02250",
   "metadata": {
    "tags": []
   },
   "outputs": [
    {
     "name": "stdout",
     "output_type": "stream",
     "text": [
      "Enter a number: 6\n"
     ]
    },
    {
     "name": "stdout",
     "output_type": "stream",
     "text": [
      "6 is a Perfect Number.\n"
     ]
    }
   ],
   "source": [
    "num = int(input(\"Enter a number:\"))\n",
    "sum = 0\n",
    "for i in range(1, num):\n",
    "    if num % i == 0:\n",
    "        sum += i\n",
    "if num == sum:\n",
    "    print(num, \"is a Perfect Number.\")\n",
    "else:\n",
    "    print(num, \"is NOT a Perfect Number.\")"
   ]
  },
  {
   "cell_type": "code",
   "execution_count": 13,
   "id": "5877f070-12cb-4d9e-ae6c-50e7d71d1d7c",
   "metadata": {
    "tags": []
   },
   "outputs": [
    {
     "name": "stdout",
     "output_type": "stream",
     "text": [
      "Enter n: 5\n"
     ]
    },
    {
     "name": "stdout",
     "output_type": "stream",
     "text": [
      "0\n",
      "1\n",
      "1\n",
      "2\n",
      "3\n"
     ]
    }
   ],
   "source": [
    "n = int(input(\"Enter n:\"))\n",
    "a = 0\n",
    "b = 1\n",
    "if n < 0:\n",
    "    print(\"Invalid Input\")\n",
    "elif n == 1:\n",
    "    print(a)\n",
    "elif n == 2:\n",
    "    print(b)\n",
    "else:\n",
    "    for i in range(1, n +1):\n",
    "        print(a)\n",
    "        temp =a + b\n",
    "        a = b\n",
    "        b = temp"
   ]
  },
  {
   "cell_type": "code",
   "execution_count": 17,
   "id": "ebb85d93-52f9-43a8-ad06-23cc0557906a",
   "metadata": {
    "tags": []
   },
   "outputs": [
    {
     "name": "stdout",
     "output_type": "stream",
     "text": [
      "Entera Number: 135\n"
     ]
    },
    {
     "name": "stdout",
     "output_type": "stream",
     "text": [
      "135 is NOT anArmstrongNumber\n"
     ]
    }
   ],
   "source": [
    "n_str =input(\"Entera Number:\")\n",
    "l =len(n_str)\n",
    "#n= int(n_str)\n",
    "sum= 0\n",
    "for i in range(0, l):\n",
    "    sum+= int(n_str[i])** l\n",
    "if sum== int(n_str):\n",
    "    print(n_str, \"is an ArmstrongNumber\")\n",
    "else:\n",
    "    print(n_str, \"is NOT anArmstrongNumber\")"
   ]
  },
  {
   "cell_type": "code",
   "execution_count": null,
   "id": "299b2969-1264-4327-bcef-abd469696195",
   "metadata": {},
   "outputs": [],
   "source": []
  }
 ],
 "metadata": {
  "kernelspec": {
   "display_name": "Python 3 (ipykernel)",
   "language": "python",
   "name": "python3"
  },
  "language_info": {
   "codemirror_mode": {
    "name": "ipython",
    "version": 3
   },
   "file_extension": ".py",
   "mimetype": "text/x-python",
   "name": "python",
   "nbconvert_exporter": "python",
   "pygments_lexer": "ipython3",
   "version": "3.11.5"
  }
 },
 "nbformat": 4,
 "nbformat_minor": 5
}
