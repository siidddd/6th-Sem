{
 "cells": [
  {
   "cell_type": "code",
   "execution_count": 10,
   "metadata": {},
   "outputs": [
    {
     "name": "stdout",
     "output_type": "stream",
     "text": [
      "Enter Numbers. Enter 'DONE' to stop input.\n",
      "Sum of enetered Numbers: 45\n"
     ]
    }
   ],
   "source": [
    "# 1. Write a Python program to sum all the items in a list.\n",
    "list = []\n",
    "\n",
    "print(\"Enter Numbers. Enter 'DONE' to stop input.\")\n",
    "\n",
    "while True:\n",
    "    item = input(\"> \")\n",
    "    if item == \"DONE\":\n",
    "        break\n",
    "    list.append(int(item))\n",
    "\n",
    "sum = 0\n",
    "for i in list:\n",
    "    sum += i\n",
    "\n",
    "print(\"Sum of enetered Numbers:\", sum)"
   ]
  },
  {
   "cell_type": "code",
   "execution_count": 16,
   "metadata": {},
   "outputs": [
    {
     "name": "stdout",
     "output_type": "stream",
     "text": [
      "Enter Numbers. Enter 'DONE' to stop input.\n",
      "Product of enetered Numbers: 2\n"
     ]
    }
   ],
   "source": [
    "# 2. Write a Python program to multiply all the items in a list.\n",
    "list = []\n",
    "\n",
    "print(\"Enter Numbers. Enter 'DONE' to stop input.\")\n",
    "\n",
    "while True:\n",
    "    item = input(\"> \")\n",
    "    if item == \"DONE\":\n",
    "        break\n",
    "    list.append(int(item))\n",
    "\n",
    "prod = 1\n",
    "for i in list:\n",
    "    prod *= i\n",
    "\n",
    "print(\"Product of enetered Numbers:\", prod)"
   ]
  },
  {
   "cell_type": "code",
   "execution_count": 12,
   "metadata": {},
   "outputs": [
    {
     "name": "stdout",
     "output_type": "stream",
     "text": [
      "Enter Numbers. Enter 'DONE' to stop input.\n",
      "Max Element: 2\n"
     ]
    }
   ],
   "source": [
    "# 3.Write a Python program to get the largest number from a list.\n",
    "list = []\n",
    "\n",
    "print(\"Enter Numbers. Enter 'DONE' to stop input.\")\n",
    "\n",
    "while True:\n",
    "    item = input(\"> \")\n",
    "    if item == \"DONE\":\n",
    "        break\n",
    "    list.append(int(item))\n",
    "\n",
    "max = list[0]\n",
    "for i in range(1, len(list)):\n",
    "    if list[i] > max:\n",
    "        max = list[i]\n",
    "\n",
    "print(\"Max Element:\", max)"
   ]
  },
  {
   "cell_type": "code",
   "execution_count": 18,
   "metadata": {},
   "outputs": [
    {
     "name": "stdout",
     "output_type": "stream",
     "text": [
      "Enter Numbers. Enter 'DONE' to stop input.\n",
      "Minimum number is:  1\n"
     ]
    }
   ],
   "source": [
    "# 4. Write a Python program to get the smallest number from a list.\n",
    "list = []\n",
    "\n",
    "print(\"Enter Numbers. Enter 'DONE' to stop input.\")\n",
    "\n",
    "while True:\n",
    "    item = input(\"> \")\n",
    "    if item == \"DONE\":\n",
    "        break\n",
    "    list.append(int(item))\n",
    "\n",
    "min = list[0]\n",
    "for i in range(1, len(list)):\n",
    "    if list[i] < min:\n",
    "        min = list[i]\n",
    "\n",
    "print(\"Minimum number is: \", min)"
   ]
  },
  {
   "cell_type": "code",
   "execution_count": 19,
   "metadata": {},
   "outputs": [
    {
     "name": "stdout",
     "output_type": "stream",
     "text": [
      "Enter Numbers. Enter 'DONE' to stop input.\n",
      "Resultant Array:\n",
      "1 5 6 4 "
     ]
    }
   ],
   "source": [
    "# 5. Write a Python program to remove duplicates from a list.\n",
    "list = []\n",
    "res_list = []\n",
    "\n",
    "print(\"Enter Numbers. Enter 'DONE' to stop input.\")\n",
    "\n",
    "while True:\n",
    "    item = input(\"> \")\n",
    "    if item == \"DONE\":\n",
    "        break\n",
    "    list.append(int(item))\n",
    "\n",
    "for i in range(len(list)):\n",
    "    if i in res_list:\n",
    "        continue\n",
    "    res_list.append(list[i])\n",
    "\n",
    "print(\"Resultant Array:\")\n",
    "for i in res_list:\n",
    "    print(i, end = ' ')"
   ]
  },
  {
   "cell_type": "code",
   "execution_count": 20,
   "metadata": {},
   "outputs": [
    {
     "name": "stdout",
     "output_type": "stream",
     "text": [
      "Enter Numbers. Enter 'DONE' to stop input.\n",
      "Resultant Array:\n",
      "1 2 5 4 "
     ]
    }
   ],
   "source": [
    "# 6. Write a Python program to clone or copy a list.\n",
    "list = []\n",
    "\n",
    "print(\"Enter Numbers. Enter 'DONE' to stop input.\")\n",
    "\n",
    "while True:\n",
    "    item = input(\"> \")\n",
    "    if item == \"DONE\":\n",
    "        break\n",
    "    list.append(int(item))\n",
    "\n",
    "res_list = list[:]\n",
    "\n",
    "print(\"Resultant Array:\")\n",
    "for i in res_list:\n",
    "    print(i, end = ' ')"
   ]
  },
  {
   "cell_type": "code",
   "execution_count": null,
   "metadata": {},
   "outputs": [
    {
     "name": "stdout",
     "output_type": "stream",
     "text": [
      "Enter Numbers. Enter 'DONE' to stop input.\n",
      "Resultant Array:\n",
      "1 2 5 4 "
     ]
    }
   ],
   "source": [
    "# 6. Write a Python program to clone or copy a list.\n",
    "list = []\n",
    "\n",
    "print(\"Enter Numbers. Enter 'DONE' to stop input.\")\n",
    "\n",
    "while True:\n",
    "    item = input(\"> \")\n",
    "    if item == \"DONE\":\n",
    "        break\n",
    "    list.append(int(item))\n",
    "\n",
    "res_list = list[:]\n",
    "\n",
    "print(\"Resultant Array:\")\n",
    "for i in res_list:\n",
    "    print(i, end = ' ')"
   ]
  },
  {
   "cell_type": "code",
   "execution_count": null,
   "metadata": {},
   "outputs": [],
   "source": [
    "# 7.Write a Python program to find the second smallest number in a list.\n",
    "list = []\n",
    "\n",
    "print(\"Enter Numbers. Enter 'DONE' to stop input.\")\n",
    "\n",
    "while True:\n",
    "    item = input(\"> \")\n",
    "    if item == \"DONE\":\n",
    "        break\n",
    "    list.append(int(item))\n",
    "\n",
    "list.sort(reverse=True)\n",
    "print(\"Second Largest:\", list[1])"
   ]
  },
  {
   "cell_type": "code",
   "execution_count": null,
   "metadata": {},
   "outputs": [],
   "source": [
    "# 8. Write a Python program to find the second largest number in a list.\n",
    "list = []\n",
    "\n",
    "print(\"Enter Numbers. Enter 'DONE' to stop input.\")\n",
    "\n",
    "while True:\n",
    "    item = input(\"> \")\n",
    "    if item == \"DONE\":\n",
    "        break\n",
    "    list.append(int(item))\n",
    "\n",
    "list.sort()\n",
    "print(\"Second Largest:\", list[1])"
   ]
  },
  {
   "cell_type": "code",
   "execution_count": null,
   "metadata": {},
   "outputs": [],
   "source": [
    "# 9. Write a Python program to find common items in two lists.\n",
    "\n",
    "list_1 = []\n",
    "list_2 = []\n",
    "list_common = []\n",
    "\n",
    "print(\"Enter Numbers for 1st List. Enter 'DONE' to stop input.\")\n",
    "\n",
    "while True:\n",
    "    item = input(\"> \")\n",
    "    if item == \"DONE\":\n",
    "        break\n",
    "    list_1.append(int(item))\n",
    "\n",
    "print(\"Enter Numbers for 2nd List. Enter 'DONE' to stop input.\")\n",
    "\n",
    "while True:\n",
    "    item = input(\"> \")\n",
    "    if item == \"DONE\":\n",
    "        break\n",
    "    list_2.append(int(item))\n",
    "\n",
    "for i in list_1:\n",
    "    if i in list_2:\n",
    "        list_common.append(i)\n",
    "\n",
    "print(\"Common Elements:\")\n",
    "for i in list_common:\n",
    "    print(i)"
   ]
  },
  {
   "cell_type": "code",
   "execution_count": null,
   "metadata": {},
   "outputs": [],
   "source": [
    "# 10. Write a Python program to swap a pair of values in list.\n",
    "list = []\n",
    "\n",
    "print(\"Enter Numbers. Enter 'DONE' to stop input.\")\n",
    "\n",
    "while True:\n",
    "    item = input(\"> \")\n",
    "    if item == \"DONE\":\n",
    "        break\n",
    "    list.append(int(item))\n",
    "\n",
    "A = int(input(\"Enter index A to swap:\"))\n",
    "B = int(input(\"Enter index A to swap:\"))\n",
    "\n",
    "if A < len(list) and B < len(list):\n",
    "    list[A],list[B] = list[B],list[A]\n",
    "\n",
    "print(\"Resultant Array:\")\n",
    "for i in list:\n",
    "    print(i)"
   ]
  }
 ],
 "metadata": {
  "kernelspec": {
   "display_name": "base",
   "language": "python",
   "name": "python3"
  },
  "language_info": {
   "codemirror_mode": {
    "name": "ipython",
    "version": 3
   },
   "file_extension": ".py",
   "mimetype": "text/x-python",
   "name": "python",
   "nbconvert_exporter": "python",
   "pygments_lexer": "ipython3",
   "version": "3.11.5"
  }
 },
 "nbformat": 4,
 "nbformat_minor": 2
}
