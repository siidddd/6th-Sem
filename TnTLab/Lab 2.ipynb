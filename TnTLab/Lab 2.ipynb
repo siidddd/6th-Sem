{
 "cells": [
  {
   "cell_type": "code",
   "execution_count": 5,
   "id": "877082c7-66d0-41aa-9454-a75f8a0de6f0",
   "metadata": {
    "tags": []
   },
   "outputs": [
    {
     "name": "stdin",
     "output_type": "stream",
     "text": [
      "Enter a number:  6969\n"
     ]
    },
    {
     "name": "stdout",
     "output_type": "stream",
     "text": [
      "3\n"
     ]
    }
   ],
   "source": [
    "x_str = input(\"Enter a number: \")\n",
    "x = 0\n",
    "while(len(x_str) > 1):\n",
    "    x = 0\n",
    "    for i in range(0, len(x_str)):\n",
    "        x +=int(x_str[i])\n",
    "    x_str = str(x)\n",
    "print(x)"
   ]
  },
  {
   "cell_type": "code",
   "execution_count": 8,
   "id": "6a8ea0e3-929e-47ab-85fb-543d44a81a21",
   "metadata": {
    "tags": []
   },
   "outputs": [
    {
     "name": "stdin",
     "output_type": "stream",
     "text": [
      "Enter a number:  55\n"
     ]
    },
    {
     "name": "stdout",
     "output_type": "stream",
     "text": [
      "55\n"
     ]
    }
   ],
   "source": [
    "x_str = input(\"Enter a number: \")\n",
    "x = int(x_str)\n",
    "l = len(x_str)\n",
    "first_dig = int(x // (10**(l-1)))\n",
    "last_dig = (x % 10)\n",
    "new_str = str(last_dig) + x_str[1:(l-10)] + str(first_dig)\n",
    "x  = int(new_str)\n",
    "print(x)"
   ]
  },
  {
   "cell_type": "code",
   "execution_count": 11,
   "id": "a23098b3-0126-4bee-b944-b0f57497925d",
   "metadata": {
    "tags": []
   },
   "outputs": [
    {
     "name": "stdin",
     "output_type": "stream",
     "text": [
      "Enter a number:  1234\n"
     ]
    },
    {
     "name": "stdout",
     "output_type": "stream",
     "text": [
      " 2143\n"
     ]
    }
   ],
   "source": [
    "x_str = input(\"Enter a number: \")\n",
    "res = \" \"\n",
    "if len(x_str) % 2 != 0:\n",
    "    print(\"Invalid length of number\")\n",
    "for i in range(0, len(x_str)-1, 2):\n",
    "    res+= str(x_str[i+1]) + str(x_str[i])\n",
    "print(res)"
   ]
  },
  {
   "cell_type": "code",
   "execution_count": null,
   "id": "03750282-9062-4a20-bf2e-d662b4afc292",
   "metadata": {},
   "outputs": [],
   "source": []
  }
 ],
 "metadata": {
  "kernelspec": {
   "display_name": "Python 3 (ipykernel)",
   "language": "python",
   "name": "python3"
  },
  "language_info": {
   "codemirror_mode": {
    "name": "ipython",
    "version": 3
   },
   "file_extension": ".py",
   "mimetype": "text/x-python",
   "name": "python",
   "nbconvert_exporter": "python",
   "pygments_lexer": "ipython3",
   "version": "3.11.5"
  }
 },
 "nbformat": 4,
 "nbformat_minor": 5
}
